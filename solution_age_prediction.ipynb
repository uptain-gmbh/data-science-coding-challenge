{
  "nbformat": 4,
  "nbformat_minor": 0,
  "metadata": {
    "colab": {
      "provenance": [],
      "authorship_tag": "ABX9TyPKwUJb+ILJtvVW/1pyGtVO",
      "include_colab_link": true
    },
    "kernelspec": {
      "name": "python3",
      "display_name": "Python 3"
    },
    "language_info": {
      "name": "python"
    }
  },
  "cells": [
    {
      "cell_type": "markdown",
      "metadata": {
        "id": "view-in-github",
        "colab_type": "text"
      },
      "source": [
        "<a href=\"https://colab.research.google.com/github/ramvsiva/data-science-coding-challenge/blob/colab/solution_age_prediction.ipynb\" target=\"_parent\"><img src=\"https://colab.research.google.com/assets/colab-badge.svg\" alt=\"Open In Colab\"/></a>"
      ]
    },
    {
      "cell_type": "code",
      "execution_count": 21,
      "metadata": {
        "id": "9ItdfqRiGMLl"
      },
      "outputs": [],
      "source": [
        "import pandas as pd\n",
        "import re\n",
        "from datetime import datetime\n",
        "import pickle\n",
        "import json\n",
        "from sklearn.model_selection import train_test_split, GridSearchCV\n",
        "from sklearn.preprocessing import StandardScaler, LabelEncoder, OneHotEncoder\n",
        "from sklearn.tree import DecisionTreeClassifier\n",
        "from sklearn.linear_model import LogisticRegression\n",
        "from sklearn.ensemble import RandomForestClassifier\n",
        "from sklearn.metrics import accuracy_score, confusion_matrix, precision_recall_fscore_support, classification_report"
      ]
    },
    {
      "cell_type": "markdown",
      "source": [
        "Email Processing and User Age Classification"
      ],
      "metadata": {
        "id": "_0EnJH-QbRZV"
      }
    },
    {
      "cell_type": "code",
      "source": [
        "def preprocess_numbers(numbers):\n",
        "    if numbers:\n",
        "        if len(numbers) == 2:\n",
        "            num = int(numbers)\n",
        "            if 45 <= num <= 99:\n",
        "                return 1900 + num\n",
        "            elif 0 <= num <= 24:\n",
        "                return 2000 + num\n",
        "        elif len(numbers) == 4:\n",
        "            year = int(numbers)\n",
        "            if 1900 <= year <= 2023:\n",
        "                return year\n",
        "    return None\n",
        "\n",
        "def define_age_class(year):\n",
        "    if year is None:\n",
        "        return 'unsure'\n",
        "    current_year = datetime.now().year\n",
        "    age = current_year - year\n",
        "    if age < 30:\n",
        "        return 'young'\n",
        "    elif age < 50:\n",
        "        return 'medium'\n",
        "    else:\n",
        "        return 'old'\n",
        "\n",
        "def extract_details(email):\n",
        "    email = email.strip()\n",
        "    if '@' in email:\n",
        "        parts = email.split('@')\n",
        "        username = parts[0]\n",
        "        domain = parts[1].split(',')[0].strip() if ',' in parts[1] else parts[1].strip()\n",
        "        first_name = re.split(r'[._]', username)[0]\n",
        "        last_name = re.split(r'[._]', username)[-1]\n",
        "        numbers = ''.join([c for c in username if c.isdigit()])\n",
        "        birth_year = preprocess_numbers(numbers)\n",
        "        age_class = define_age_class(birth_year)\n",
        "        return [first_name, last_name, domain, numbers, birth_year, age_class]\n",
        "    return [None, None, None, None, None, None]\n"
      ],
      "metadata": {
        "id": "A5dcMlP6GmEQ"
      },
      "execution_count": 14,
      "outputs": []
    },
    {
      "cell_type": "markdown",
      "source": [
        "Processing Email Data and Generating a Structured CSV Output"
      ],
      "metadata": {
        "id": "Qxf6Dayeb4SA"
      }
    },
    {
      "cell_type": "code",
      "source": [
        "file_path = 'emails.txt'\n",
        "with open(file_path, 'r') as file:\n",
        "    emails = file.readlines()\n",
        "\n",
        "data = [extract_details(email) for email in emails if '@' in email]\n",
        "columns = ['First Name', 'Last Name', 'Domain', 'Numbers', 'Birth Year', 'Age Class']\n",
        "df = pd.DataFrame(data, columns=columns)\n",
        "df['Birth Year'] = pd.to_numeric(df['Birth Year'], errors='coerce').astype('Int64')\n",
        "df.to_csv('processed_data.csv', index=False)"
      ],
      "metadata": {
        "id": "iLXNjWe6G96-"
      },
      "execution_count": 15,
      "outputs": []
    },
    {
      "cell_type": "markdown",
      "source": [
        "Loading and Preparing Email Data for Analysis"
      ],
      "metadata": {
        "id": "iRrz18BccLCK"
      }
    },
    {
      "cell_type": "code",
      "source": [
        "file_path = 'processed_data.csv'\n",
        "df = pd.read_csv(file_path)\n",
        "df['Birth Year'].fillna(0, inplace=True)\n",
        "df['Birth Year'] = pd.to_numeric(df['Birth Year'], errors='coerce').astype('Int64')\n",
        "df.head()"
      ],
      "metadata": {
        "colab": {
          "base_uri": "https://localhost:8080/",
          "height": 206
        },
        "id": "8aO-ioIlHM3I",
        "outputId": "0095541d-0409-440f-f542-7b45e492866f"
      },
      "execution_count": 16,
      "outputs": [
        {
          "output_type": "execute_result",
          "data": {
            "text/plain": [
              "  First Name  Last Name         Domain  Numbers  Birth Year Age Class\n",
              "0      Elody  OConner51      gmail.com     51.0        1951       old\n",
              "1       lily     long85      yahoo.com     85.0        1985    medium\n",
              "2      simon       ward  protonmailcom      NaN           0    unsure\n",
              "3   benjamin   phillips    hotmail.com      NaN           0    unsure\n",
              "4     robert     walker        aol.com      NaN           0    unsure"
            ],
            "text/html": [
              "\n",
              "  <div id=\"df-f667b8f3-ec28-42b8-96bf-f6457b44ccec\" class=\"colab-df-container\">\n",
              "    <div>\n",
              "<style scoped>\n",
              "    .dataframe tbody tr th:only-of-type {\n",
              "        vertical-align: middle;\n",
              "    }\n",
              "\n",
              "    .dataframe tbody tr th {\n",
              "        vertical-align: top;\n",
              "    }\n",
              "\n",
              "    .dataframe thead th {\n",
              "        text-align: right;\n",
              "    }\n",
              "</style>\n",
              "<table border=\"1\" class=\"dataframe\">\n",
              "  <thead>\n",
              "    <tr style=\"text-align: right;\">\n",
              "      <th></th>\n",
              "      <th>First Name</th>\n",
              "      <th>Last Name</th>\n",
              "      <th>Domain</th>\n",
              "      <th>Numbers</th>\n",
              "      <th>Birth Year</th>\n",
              "      <th>Age Class</th>\n",
              "    </tr>\n",
              "  </thead>\n",
              "  <tbody>\n",
              "    <tr>\n",
              "      <th>0</th>\n",
              "      <td>Elody</td>\n",
              "      <td>OConner51</td>\n",
              "      <td>gmail.com</td>\n",
              "      <td>51.0</td>\n",
              "      <td>1951</td>\n",
              "      <td>old</td>\n",
              "    </tr>\n",
              "    <tr>\n",
              "      <th>1</th>\n",
              "      <td>lily</td>\n",
              "      <td>long85</td>\n",
              "      <td>yahoo.com</td>\n",
              "      <td>85.0</td>\n",
              "      <td>1985</td>\n",
              "      <td>medium</td>\n",
              "    </tr>\n",
              "    <tr>\n",
              "      <th>2</th>\n",
              "      <td>simon</td>\n",
              "      <td>ward</td>\n",
              "      <td>protonmailcom</td>\n",
              "      <td>NaN</td>\n",
              "      <td>0</td>\n",
              "      <td>unsure</td>\n",
              "    </tr>\n",
              "    <tr>\n",
              "      <th>3</th>\n",
              "      <td>benjamin</td>\n",
              "      <td>phillips</td>\n",
              "      <td>hotmail.com</td>\n",
              "      <td>NaN</td>\n",
              "      <td>0</td>\n",
              "      <td>unsure</td>\n",
              "    </tr>\n",
              "    <tr>\n",
              "      <th>4</th>\n",
              "      <td>robert</td>\n",
              "      <td>walker</td>\n",
              "      <td>aol.com</td>\n",
              "      <td>NaN</td>\n",
              "      <td>0</td>\n",
              "      <td>unsure</td>\n",
              "    </tr>\n",
              "  </tbody>\n",
              "</table>\n",
              "</div>\n",
              "    <div class=\"colab-df-buttons\">\n",
              "\n",
              "  <div class=\"colab-df-container\">\n",
              "    <button class=\"colab-df-convert\" onclick=\"convertToInteractive('df-f667b8f3-ec28-42b8-96bf-f6457b44ccec')\"\n",
              "            title=\"Convert this dataframe to an interactive table.\"\n",
              "            style=\"display:none;\">\n",
              "\n",
              "  <svg xmlns=\"http://www.w3.org/2000/svg\" height=\"24px\" viewBox=\"0 -960 960 960\">\n",
              "    <path d=\"M120-120v-720h720v720H120Zm60-500h600v-160H180v160Zm220 220h160v-160H400v160Zm0 220h160v-160H400v160ZM180-400h160v-160H180v160Zm440 0h160v-160H620v160ZM180-180h160v-160H180v160Zm440 0h160v-160H620v160Z\"/>\n",
              "  </svg>\n",
              "    </button>\n",
              "\n",
              "  <style>\n",
              "    .colab-df-container {\n",
              "      display:flex;\n",
              "      gap: 12px;\n",
              "    }\n",
              "\n",
              "    .colab-df-convert {\n",
              "      background-color: #E8F0FE;\n",
              "      border: none;\n",
              "      border-radius: 50%;\n",
              "      cursor: pointer;\n",
              "      display: none;\n",
              "      fill: #1967D2;\n",
              "      height: 32px;\n",
              "      padding: 0 0 0 0;\n",
              "      width: 32px;\n",
              "    }\n",
              "\n",
              "    .colab-df-convert:hover {\n",
              "      background-color: #E2EBFA;\n",
              "      box-shadow: 0px 1px 2px rgba(60, 64, 67, 0.3), 0px 1px 3px 1px rgba(60, 64, 67, 0.15);\n",
              "      fill: #174EA6;\n",
              "    }\n",
              "\n",
              "    .colab-df-buttons div {\n",
              "      margin-bottom: 4px;\n",
              "    }\n",
              "\n",
              "    [theme=dark] .colab-df-convert {\n",
              "      background-color: #3B4455;\n",
              "      fill: #D2E3FC;\n",
              "    }\n",
              "\n",
              "    [theme=dark] .colab-df-convert:hover {\n",
              "      background-color: #434B5C;\n",
              "      box-shadow: 0px 1px 3px 1px rgba(0, 0, 0, 0.15);\n",
              "      filter: drop-shadow(0px 1px 2px rgba(0, 0, 0, 0.3));\n",
              "      fill: #FFFFFF;\n",
              "    }\n",
              "  </style>\n",
              "\n",
              "    <script>\n",
              "      const buttonEl =\n",
              "        document.querySelector('#df-f667b8f3-ec28-42b8-96bf-f6457b44ccec button.colab-df-convert');\n",
              "      buttonEl.style.display =\n",
              "        google.colab.kernel.accessAllowed ? 'block' : 'none';\n",
              "\n",
              "      async function convertToInteractive(key) {\n",
              "        const element = document.querySelector('#df-f667b8f3-ec28-42b8-96bf-f6457b44ccec');\n",
              "        const dataTable =\n",
              "          await google.colab.kernel.invokeFunction('convertToInteractive',\n",
              "                                                    [key], {});\n",
              "        if (!dataTable) return;\n",
              "\n",
              "        const docLinkHtml = 'Like what you see? Visit the ' +\n",
              "          '<a target=\"_blank\" href=https://colab.research.google.com/notebooks/data_table.ipynb>data table notebook</a>'\n",
              "          + ' to learn more about interactive tables.';\n",
              "        element.innerHTML = '';\n",
              "        dataTable['output_type'] = 'display_data';\n",
              "        await google.colab.output.renderOutput(dataTable, element);\n",
              "        const docLink = document.createElement('div');\n",
              "        docLink.innerHTML = docLinkHtml;\n",
              "        element.appendChild(docLink);\n",
              "      }\n",
              "    </script>\n",
              "  </div>\n",
              "\n",
              "\n",
              "<div id=\"df-f7fa9b6d-fc55-4f43-922f-c8b511b155b6\">\n",
              "  <button class=\"colab-df-quickchart\" onclick=\"quickchart('df-f7fa9b6d-fc55-4f43-922f-c8b511b155b6')\"\n",
              "            title=\"Suggest charts\"\n",
              "            style=\"display:none;\">\n",
              "\n",
              "<svg xmlns=\"http://www.w3.org/2000/svg\" height=\"24px\"viewBox=\"0 0 24 24\"\n",
              "     width=\"24px\">\n",
              "    <g>\n",
              "        <path d=\"M19 3H5c-1.1 0-2 .9-2 2v14c0 1.1.9 2 2 2h14c1.1 0 2-.9 2-2V5c0-1.1-.9-2-2-2zM9 17H7v-7h2v7zm4 0h-2V7h2v10zm4 0h-2v-4h2v4z\"/>\n",
              "    </g>\n",
              "</svg>\n",
              "  </button>\n",
              "\n",
              "<style>\n",
              "  .colab-df-quickchart {\n",
              "      --bg-color: #E8F0FE;\n",
              "      --fill-color: #1967D2;\n",
              "      --hover-bg-color: #E2EBFA;\n",
              "      --hover-fill-color: #174EA6;\n",
              "      --disabled-fill-color: #AAA;\n",
              "      --disabled-bg-color: #DDD;\n",
              "  }\n",
              "\n",
              "  [theme=dark] .colab-df-quickchart {\n",
              "      --bg-color: #3B4455;\n",
              "      --fill-color: #D2E3FC;\n",
              "      --hover-bg-color: #434B5C;\n",
              "      --hover-fill-color: #FFFFFF;\n",
              "      --disabled-bg-color: #3B4455;\n",
              "      --disabled-fill-color: #666;\n",
              "  }\n",
              "\n",
              "  .colab-df-quickchart {\n",
              "    background-color: var(--bg-color);\n",
              "    border: none;\n",
              "    border-radius: 50%;\n",
              "    cursor: pointer;\n",
              "    display: none;\n",
              "    fill: var(--fill-color);\n",
              "    height: 32px;\n",
              "    padding: 0;\n",
              "    width: 32px;\n",
              "  }\n",
              "\n",
              "  .colab-df-quickchart:hover {\n",
              "    background-color: var(--hover-bg-color);\n",
              "    box-shadow: 0 1px 2px rgba(60, 64, 67, 0.3), 0 1px 3px 1px rgba(60, 64, 67, 0.15);\n",
              "    fill: var(--button-hover-fill-color);\n",
              "  }\n",
              "\n",
              "  .colab-df-quickchart-complete:disabled,\n",
              "  .colab-df-quickchart-complete:disabled:hover {\n",
              "    background-color: var(--disabled-bg-color);\n",
              "    fill: var(--disabled-fill-color);\n",
              "    box-shadow: none;\n",
              "  }\n",
              "\n",
              "  .colab-df-spinner {\n",
              "    border: 2px solid var(--fill-color);\n",
              "    border-color: transparent;\n",
              "    border-bottom-color: var(--fill-color);\n",
              "    animation:\n",
              "      spin 1s steps(1) infinite;\n",
              "  }\n",
              "\n",
              "  @keyframes spin {\n",
              "    0% {\n",
              "      border-color: transparent;\n",
              "      border-bottom-color: var(--fill-color);\n",
              "      border-left-color: var(--fill-color);\n",
              "    }\n",
              "    20% {\n",
              "      border-color: transparent;\n",
              "      border-left-color: var(--fill-color);\n",
              "      border-top-color: var(--fill-color);\n",
              "    }\n",
              "    30% {\n",
              "      border-color: transparent;\n",
              "      border-left-color: var(--fill-color);\n",
              "      border-top-color: var(--fill-color);\n",
              "      border-right-color: var(--fill-color);\n",
              "    }\n",
              "    40% {\n",
              "      border-color: transparent;\n",
              "      border-right-color: var(--fill-color);\n",
              "      border-top-color: var(--fill-color);\n",
              "    }\n",
              "    60% {\n",
              "      border-color: transparent;\n",
              "      border-right-color: var(--fill-color);\n",
              "    }\n",
              "    80% {\n",
              "      border-color: transparent;\n",
              "      border-right-color: var(--fill-color);\n",
              "      border-bottom-color: var(--fill-color);\n",
              "    }\n",
              "    90% {\n",
              "      border-color: transparent;\n",
              "      border-bottom-color: var(--fill-color);\n",
              "    }\n",
              "  }\n",
              "</style>\n",
              "\n",
              "  <script>\n",
              "    async function quickchart(key) {\n",
              "      const quickchartButtonEl =\n",
              "        document.querySelector('#' + key + ' button');\n",
              "      quickchartButtonEl.disabled = true;  // To prevent multiple clicks.\n",
              "      quickchartButtonEl.classList.add('colab-df-spinner');\n",
              "      try {\n",
              "        const charts = await google.colab.kernel.invokeFunction(\n",
              "            'suggestCharts', [key], {});\n",
              "      } catch (error) {\n",
              "        console.error('Error during call to suggestCharts:', error);\n",
              "      }\n",
              "      quickchartButtonEl.classList.remove('colab-df-spinner');\n",
              "      quickchartButtonEl.classList.add('colab-df-quickchart-complete');\n",
              "    }\n",
              "    (() => {\n",
              "      let quickchartButtonEl =\n",
              "        document.querySelector('#df-f7fa9b6d-fc55-4f43-922f-c8b511b155b6 button');\n",
              "      quickchartButtonEl.style.display =\n",
              "        google.colab.kernel.accessAllowed ? 'block' : 'none';\n",
              "    })();\n",
              "  </script>\n",
              "</div>\n",
              "    </div>\n",
              "  </div>\n"
            ],
            "application/vnd.google.colaboratory.intrinsic+json": {
              "type": "dataframe",
              "variable_name": "df",
              "summary": "{\n  \"name\": \"df\",\n  \"rows\": 1073,\n  \"fields\": [\n    {\n      \"column\": \"First Name\",\n      \"properties\": {\n        \"dtype\": \"string\",\n        \"num_unique_values\": 583,\n        \"samples\": [\n          \"lily1983\",\n          \"Francesco\",\n          \"andrew36\"\n        ],\n        \"semantic_type\": \"\",\n        \"description\": \"\"\n      }\n    },\n    {\n      \"column\": \"Last Name\",\n      \"properties\": {\n        \"dtype\": \"string\",\n        \"num_unique_values\": 705,\n        \"samples\": [\n          \"Jacobson74\",\n          \"Susan13\",\n          \"Evan93\"\n        ],\n        \"semantic_type\": \"\",\n        \"description\": \"\"\n      }\n    },\n    {\n      \"column\": \"Domain\",\n      \"properties\": {\n        \"dtype\": \"category\",\n        \"num_unique_values\": 39,\n        \"samples\": [\n          \"outlook\",\n          \"davis\",\n          \"aol.com\"\n        ],\n        \"semantic_type\": \"\",\n        \"description\": \"\"\n      }\n    },\n    {\n      \"column\": \"Numbers\",\n      \"properties\": {\n        \"dtype\": \"number\",\n        \"std\": 7212.000119915801,\n        \"min\": 0.0,\n        \"max\": 99991.0,\n        \"num_unique_values\": 235,\n        \"samples\": [\n          10000.0,\n          6789.0,\n          1674.0\n        ],\n        \"semantic_type\": \"\",\n        \"description\": \"\"\n      }\n    },\n    {\n      \"column\": \"Birth Year\",\n      \"properties\": {\n        \"dtype\": \"Int64\",\n        \"num_unique_values\": 77,\n        \"samples\": [\n          1979,\n          1976,\n          2004\n        ],\n        \"semantic_type\": \"\",\n        \"description\": \"\"\n      }\n    },\n    {\n      \"column\": \"Age Class\",\n      \"properties\": {\n        \"dtype\": \"category\",\n        \"num_unique_values\": 4,\n        \"samples\": [\n          \"medium\",\n          \"young\",\n          \"old\"\n        ],\n        \"semantic_type\": \"\",\n        \"description\": \"\"\n      }\n    }\n  ]\n}"
            }
          },
          "metadata": {},
          "execution_count": 16
        }
      ]
    },
    {
      "cell_type": "markdown",
      "source": [
        "**Feature Encoding, Data Preparation, and Model Persistence in Machine Learning Pipeline**"
      ],
      "metadata": {
        "id": "94QH9vLlckp9"
      }
    },
    {
      "cell_type": "code",
      "source": [
        "label_encoder = LabelEncoder()\n",
        "df['First Name Encoded'] = label_encoder.fit_transform(df['First Name'])\n",
        "df['Last Name Encoded'] = label_encoder.fit_transform(df['Last Name'])\n",
        "df['Numbers'].fillna(0, inplace=True)\n",
        "\n",
        "X = df[['Numbers', 'Birth Year']]\n",
        "y = df['Age Class']\n",
        "\n",
        "X_train, X_test, y_train, y_test = train_test_split(X, y, test_size=0.2, random_state=42)\n",
        "\n",
        "\n",
        "def train_and_save_model(model, X_train, y_train, filename):\n",
        "    model.fit(X_train, y_train)\n",
        "\n",
        "    with open(filename, 'wb') as file:\n",
        "        pickle.dump(model, file)\n",
        "\n",
        "    print(f\"{type(model).__name__} saved to {filename}\")\n",
        "\n",
        "models = [\n",
        "    (LogisticRegression(random_state=42, max_iter=1000), 'logistic_regression_model.pkl'),\n",
        "    (RandomForestClassifier(random_state=42), 'random_forest_model.pkl'),\n",
        "    (DecisionTreeClassifier(random_state=42), 'decision_tree_model.pkl')\n",
        "]\n",
        "\n",
        "for model, filename in models:\n",
        "    train_and_save_model(model, X_train, y_train, filename)\n",
        "print(\"Decision Tree Classifier Model saved!!\")"
      ],
      "metadata": {
        "colab": {
          "base_uri": "https://localhost:8080/"
        },
        "id": "AITYkFTfHWpV",
        "outputId": "bc389dc5-6d5b-426c-e2ab-ccd0905130d5"
      },
      "execution_count": 17,
      "outputs": [
        {
          "output_type": "stream",
          "name": "stdout",
          "text": [
            "LogisticRegression saved to logistic_regression_model.pkl\n",
            "RandomForestClassifier saved to random_forest_model.pkl\n",
            "DecisionTreeClassifier saved to decision_tree_model.pkl\n",
            "Decision Tree Classifier Model saved!!\n"
          ]
        }
      ]
    },
    {
      "cell_type": "markdown",
      "source": [
        "Predict and evaluate the model"
      ],
      "metadata": {
        "id": "tTd82niufyO1"
      }
    },
    {
      "cell_type": "code",
      "source": [
        "predictions = model.predict(X_test)\n",
        "print(classification_report(y_test, predictions))"
      ],
      "metadata": {
        "colab": {
          "base_uri": "https://localhost:8080/"
        },
        "id": "Oh5ku2Y4HwlR",
        "outputId": "b196a697-b761-489c-b2e6-576038d68da0"
      },
      "execution_count": 18,
      "outputs": [
        {
          "output_type": "stream",
          "name": "stdout",
          "text": [
            "              precision    recall  f1-score   support\n",
            "\n",
            "      medium       1.00      1.00      1.00        31\n",
            "         old       1.00      1.00      1.00        24\n",
            "      unsure       1.00      1.00      1.00       120\n",
            "       young       1.00      1.00      1.00        40\n",
            "\n",
            "    accuracy                           1.00       215\n",
            "   macro avg       1.00      1.00      1.00       215\n",
            "weighted avg       1.00      1.00      1.00       215\n",
            "\n"
          ]
        }
      ]
    },
    {
      "cell_type": "markdown",
      "source": [
        "**Testing Emails with Pre-trained Machine Learning Models**"
      ],
      "metadata": {
        "id": "TtNFv03XdBvC"
      }
    },
    {
      "cell_type": "code",
      "source": [
        "def test_email_with_model(email, model_filename):\n",
        "    \"\"\"\n",
        "    Test the given email with a model loaded from a specified file and print the results\n",
        "    including the predicted age class and confidence score.\n",
        "\n",
        "    Args:\n",
        "        email (str): The email address to test.\n",
        "        model_filename (str): Filename of the model to load and use for testing.\n",
        "\n",
        "    Prints:\n",
        "        JSON formatted test results including the predicted age class and confidence score.\n",
        "    \"\"\"\n",
        "    with open(model_filename, 'rb') as file:\n",
        "        loaded_model = pickle.load(file)\n",
        "\n",
        "    email_details = extract_details(email)\n",
        "\n",
        "    birth_year = email_details[4] if email_details[4] is not None else 0\n",
        "    numbers = int(''.join(filter(str.isdigit, email_details[3]))) if email_details[3] else 0\n",
        "\n",
        "    input_features = [[numbers, birth_year]]\n",
        "    predicted_age_class = loaded_model.predict(input_features)\n",
        "    if hasattr(loaded_model, 'predict_proba'):\n",
        "        confidence_score = max(loaded_model.predict_proba(input_features)[0])\n",
        "    else:\n",
        "        confidence_score = 1.0\n",
        "\n",
        "    result = {\n",
        "        \"age\": predicted_age_class[0],\n",
        "        \"score\": confidence_score\n",
        "    }\n",
        "    print(json.dumps(result))\n",
        "\n",
        "test_email_with_model('john.does93@example.com', 'decision_tree_model.pkl')\n",
        "test_email_with_model('john.does93@example.com','logistic_regression_model.pkl')\n",
        "test_email_with_model('john.does93@example.com', 'random_forest_model.pkl')"
      ],
      "metadata": {
        "id": "ZI0OHRy8IqWu"
      },
      "execution_count": null,
      "outputs": []
    },
    {
      "cell_type": "markdown",
      "source": [
        "**Alternative approach: Without ML method:**\n",
        "Email Testing with Confidence Scoring"
      ],
      "metadata": {
        "id": "SpV7Ydywdvmz"
      }
    },
    {
      "cell_type": "code",
      "source": [
        "def test_email_with_confidence(email):\n",
        "    \"\"\"\n",
        "    Tests the email extraction and processing pipeline on a single email address and\n",
        "    includes a confidence score.\n",
        "\n",
        "    Args:\n",
        "    email (str): The email address to test.\n",
        "\n",
        "    Returns:\n",
        "    None: Prints the extracted details and a confidence score.\n",
        "    \"\"\"\n",
        "    details = extract_details(email)\n",
        "\n",
        "    def calculate_confidence(email_details):\n",
        "        total_fields = len(email_details)\n",
        "        print(\"email_details\", email_details)\n",
        "        print(\"total_fields\", total_fields)\n",
        "        filled_fields = sum(1 for detail in email_details if detail is not None and detail != [])\n",
        "        print(filled_fields)\n",
        "        confidence_score = filled_fields / total_fields\n",
        "        return round(confidence_score, 2)\n",
        "\n",
        "    confidence_score = calculate_confidence(details)\n",
        "    print(\"Test Results for:\", email)\n",
        "    print(\"First Name:\", details[0])\n",
        "    print(\"Last Name:\", details[1])\n",
        "    print(\"Domain:\", details[2])\n",
        "    print(\"Numbers in Username:\", details[3])\n",
        "    print(\"Extracted Birth Year:\", details[4])\n",
        "    print(\"Age Class:\", details[5])\n",
        "    print(\"Confidence Score:\", confidence_score)\n",
        "    print(\"\\n\")\n",
        "\n",
        "test_email_with_confidence('john.doe20@example.com')\n"
      ],
      "metadata": {
        "colab": {
          "base_uri": "https://localhost:8080/"
        },
        "id": "hk8ZSid7H2RD",
        "outputId": "2461d890-6364-4749-8b94-48e881102ce1"
      },
      "execution_count": 20,
      "outputs": [
        {
          "output_type": "stream",
          "name": "stdout",
          "text": [
            "email_details ['john', 'doe20', 'example.com', '20', 2020, 'young']\n",
            "total_fields 6\n",
            "6\n",
            "Test Results for: john.doe20@example.com\n",
            "First Name: john\n",
            "Last Name: doe20\n",
            "Domain: example.com\n",
            "Numbers in Username: 20\n",
            "Extracted Birth Year: 2020\n",
            "Age Class: young\n",
            "Confidence Score: 1.0\n",
            "\n",
            "\n"
          ]
        }
      ]
    }
  ]
}