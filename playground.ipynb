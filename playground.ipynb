{
 "cells": [
  {
   "cell_type": "markdown",
   "id": "ccab6885-9de4-4420-a4aa-c27d5c253017",
   "metadata": {},
   "source": [
    "### **import packages**"
   ]
  },
  {
   "cell_type": "code",
   "execution_count": 75,
   "id": "996466d2-e64e-464a-af4b-d7a4260ea0f9",
   "metadata": {},
   "outputs": [],
   "source": [
    "import sklearn\n",
    "import pandas as pd\n",
    "import re\n",
    "import torch\n",
    "import torch.nn as nn\n",
    "import json\n",
    "from torch.utils.data import Dataset, DataLoader\n",
    "import numpy as np\n",
    "\n",
    "from sklearn.ensemble import RandomForestClassifier\n",
    "from sklearn.model_selection import train_test_split\n",
    "from sklearn import metrics\n",
    "device = 'cuda' if torch.cuda.is_available() else 'cpu'\n",
    "#  = 'cpu'"
   ]
  },
  {
   "cell_type": "markdown",
   "id": "43b94349-2983-4205-8e22-09210f444a32",
   "metadata": {
    "tags": []
   },
   "source": [
    "### **email preprocessing and labelling**"
   ]
  },
  {
   "cell_type": "code",
   "execution_count": 31,
   "id": "f9299900-8758-4f2b-b97d-cedffe25a384",
   "metadata": {},
   "outputs": [],
   "source": [
    "with open(\"emails.txt\") as f: \n",
    "    unlabelled = f.read().split('\\n')"
   ]
  },
  {
   "cell_type": "code",
   "execution_count": 32,
   "id": "2a82a144-8008-49ec-97a5-7f6338c3a01b",
   "metadata": {},
   "outputs": [],
   "source": [
    "# import re\n",
    "# def is_valid_email(email):\n",
    "#     \"\"\"Check if the email is a valid format.\"\"\"\n",
    "\n",
    "#     # Regular expression for validating an Email\n",
    "\n",
    "#     # regex = r'^[a-z0-9]+[\\._]?[a-z0-9]+[@]\\w+[.]\\w+$'\n",
    "#     # regex = re.compile(r'([A-Za-z0-9]+[.-_])*[A-Za-z0-9]+@[A-Za-z0-9-]+(\\.[A-Z|a-z]{2,})+')\n",
    "#     # regex = re.compile(r\"^[a-z0-9!#$%&'*+/=?^_`{|}~-]+(?:\\.[a-z0-9!#$%&'*+/=?^_`{|}~-]+)*@(?:[a-z0-9](?:[a-z0-9-]*[a-z0-9])?\\.)+[a-z0-9](?:[a-z0-9-]*[a-z0-9])?$\" )\n",
    "#     regex = r'\\b[A-Za-z0-9._%+-]+@[A-Za-z0-9.-]+\\.[A-Z|a-z]{2,7}\\b'\n",
    "\n",
    "#     # If the string matches the regex, it is a valid email\n",
    "\n",
    "#     if re.match(regex, email):\n",
    "\n",
    "#         return True\n",
    "\n",
    "#     else:\n",
    "\n",
    "#         return False\n"
   ]
  },
  {
   "cell_type": "code",
   "execution_count": 54,
   "id": "1612fb13-2690-4fb6-90e2-4b85fe48e84e",
   "metadata": {},
   "outputs": [],
   "source": [
    "# # some emails cause errors because they're invalid\n",
    "# new_emails = 'email\\n'\n",
    "# for email in unlabelled:\n",
    "#     if is_valid_email(email):\n",
    "#         new_emails = new_emails + f'{email}\\n'"
   ]
  },
  {
   "cell_type": "code",
   "execution_count": 55,
   "id": "67c4121a-ee3c-4d95-9d2e-5e294851235c",
   "metadata": {},
   "outputs": [],
   "source": [
    "# with open('purified.txt', 'w+') as f:\n",
    "#     f.write(new_emails)\n"
   ]
  },
  {
   "cell_type": "code",
   "execution_count": 90,
   "id": "4306ab86-2e3b-4e04-8019-1af952e94617",
   "metadata": {},
   "outputs": [],
   "source": [
    "# df = pd.read_csv(\"purified.txt\")"
   ]
  },
  {
   "cell_type": "code",
   "execution_count": 91,
   "id": "f336e170-26d8-4420-b61e-75746fc84c62",
   "metadata": {},
   "outputs": [],
   "source": [
    "# create age and label columns\n",
    "template = re.compile(r'\\d+')\n",
    "\n",
    "for idx, row in df.iterrows():\n",
    "    potential_age = template.search(row.email)\n",
    "    if potential_age is None:\n",
    "        age = -100\n",
    "        df.loc[idx, \"label\"] = 0\n",
    "    else:\n",
    "        date_as_str = potential_age.group(0)\n",
    "        date_as_int = int(date_as_str)\n",
    "        if len(date_as_str) == 2:\n",
    "            if date_as_int <= 24:\n",
    "                age = 24 - date_as_int\n",
    "                df.loc[idx, \"label\"] = 1\n",
    "            else:\n",
    "                age = 124 - date_as_int\n",
    "                if age >= 50:\n",
    "                    df.loc[idx, \"label\"] = 3\n",
    "                else:\n",
    "                    df.loc[idx, \"label\"] = 2\n",
    "        elif len(date_as_str) == 4:\n",
    "            if date_as_int >= 2006 or date_as_int <= 1900: # assuming everyone is 18+\n",
    "                age = -100\n",
    "                df.loc[idx, \"label\"] = 0\n",
    "            else:\n",
    "                age = 2024 - date_as_int\n",
    "                if age >= 50:\n",
    "                        df.loc[idx, \"label\"] = 3\n",
    "                elif age < 30:\n",
    "                    df.loc[idx, \"label\"] = 1\n",
    "                else:\n",
    "                    df.loc[idx, \"label\"] = 2\n",
    "        else:\n",
    "            age = -100\n",
    "            df.loc[idx, \"label\"] = 0\n",
    "    df.loc[idx,\"age\"] = age\n",
    "                "
   ]
  },
  {
   "cell_type": "code",
   "execution_count": 92,
   "id": "d4f9fb90-1907-4b56-a50a-db575ef4caf2",
   "metadata": {},
   "outputs": [],
   "source": [
    "# df.to_csv(\"purified_and_labelled.csv\")"
   ]
  },
  {
   "cell_type": "code",
   "execution_count": 93,
   "id": "6e467190-e90f-45a1-ac91-842aea4e372e",
   "metadata": {},
   "outputs": [],
   "source": [
    "# df[\"stripped\"] = df[\"email\"].apply(lambda x: x.split(\"@\")[0].lower())"
   ]
  },
  {
   "cell_type": "code",
   "execution_count": 99,
   "id": "de94102b-3fbd-42d0-a427-ded88bf87341",
   "metadata": {},
   "outputs": [],
   "source": [
    "# char_to_int = {\n",
    "#     \"0\": 1,\n",
    "#     \"1\": 2,\n",
    "#     \"2\": 3,\n",
    "#     \"3\": 4,   \n",
    "#     \"4\":5,\n",
    "#     \"5\":6,\n",
    "#     \"6\": 7,\n",
    "#     \"7\": 8,\n",
    "#     \"8\": 9,\n",
    "#     \"9\": 10,\n",
    "#     \".\": 11,\n",
    "#     \"_\": 12,\n",
    "#     \"-\": 13\n",
    "# }"
   ]
  },
  {
   "cell_type": "code",
   "execution_count": 100,
   "id": "360f110c-d52e-4673-8194-c7476554b383",
   "metadata": {},
   "outputs": [],
   "source": [
    "# abc = \"abcdefghijklmnopqrstuvwxyz\""
   ]
  },
  {
   "cell_type": "code",
   "execution_count": 101,
   "id": "bd06fb61-cb26-43ad-ab86-0a724799ae5a",
   "metadata": {},
   "outputs": [],
   "source": [
    "# for i, c in enumerate(abc):\n",
    "#     char_to_int[c] = i + 14"
   ]
  },
  {
   "cell_type": "code",
   "execution_count": 111,
   "id": "fb0502eb-11a9-4eab-86e9-ce27b2486375",
   "metadata": {},
   "outputs": [],
   "source": [
    "# with open('mapping.json', 'w+') as f:\n",
    "#     json.dump(char_to_int, f)"
   ]
  },
  {
   "cell_type": "code",
   "execution_count": 103,
   "id": "5cdf1435-80b0-4aff-9f5e-b8c9e6ccc5fc",
   "metadata": {},
   "outputs": [],
   "source": [
    "# df['features'] = df[\"stripped\"].apply(lambda x: [char_to_int[d] for d in x] )"
   ]
  },
  {
   "cell_type": "code",
   "execution_count": 105,
   "id": "7aed1fd5-ada2-4076-8114-8ce5060dd0a3",
   "metadata": {},
   "outputs": [
    {
     "data": {
      "text/plain": [
       "30"
      ]
     },
     "execution_count": 105,
     "metadata": {},
     "output_type": "execute_result"
    }
   ],
   "source": [
    "# longest = 0\n",
    "# for _, row in df.iterrows():\n",
    "#     if len(row.features) > longest:\n",
    "#         longest = len(row.features)\n",
    "# longest"
   ]
  },
  {
   "cell_type": "code",
   "execution_count": 107,
   "id": "53eecdea-63da-4f0d-b34f-c201e599faf6",
   "metadata": {},
   "outputs": [],
   "source": [
    "# input to the networks must be uniform\n",
    "# def pad_tokens(token_list):\n",
    "#     len_tokens = len(token_list)\n",
    "#     if len_tokens > 32 :\n",
    "#         return token_list[:32]\n",
    "#     else:\n",
    "#         pad_val = [0] * 32\n",
    "#         extended = token_list + pad_val # length of (original_length + max_len)\n",
    "#         return extended[:-len_tokens]"
   ]
  },
  {
   "cell_type": "code",
   "execution_count": 108,
   "id": "5409a49b-cbc7-4e9c-8a1d-0c41f2bc8597",
   "metadata": {},
   "outputs": [],
   "source": [
    "# df['padded'] = df['features'].apply(pad_tokens)"
   ]
  },
  {
   "cell_type": "code",
   "execution_count": 109,
   "id": "bdee94fd-0f26-43a3-8557-64cd3b176c46",
   "metadata": {},
   "outputs": [],
   "source": [
    "# df.to_csv(\"emails_labelled.csv\")\n"
   ]
  },
  {
   "cell_type": "code",
   "execution_count": 110,
   "id": "b4583e95-51e5-4817-9e55-6b67d1a24ace",
   "metadata": {},
   "outputs": [],
   "source": [
    "# train_data = df.iloc[0:800]\n",
    "# valid_data = df.iloc[800:900]\n",
    "# test_data = df.iloc[900:]\n",
    "# test_data.to_csv('test_data.csv')\n",
    "# valid_data.to_csv('validation_data.csv')\n",
    "# train_data.to_csv(\"training_data.csv\")"
   ]
  },
  {
   "cell_type": "markdown",
   "id": "82b218fa-2649-4616-b9b8-cb8333c31889",
   "metadata": {},
   "source": [
    "### **Model building**"
   ]
  },
  {
   "cell_type": "code",
   "execution_count": 53,
   "id": "8703e9e4-8284-4282-a9f5-ecc94246546a",
   "metadata": {},
   "outputs": [],
   "source": [
    "df = pd.read_csv('emails_labelled.csv')"
   ]
  },
  {
   "cell_type": "code",
   "execution_count": 54,
   "id": "9eed786a-ceb8-4a6c-b6be-d7ab745ebe0c",
   "metadata": {},
   "outputs": [],
   "source": [
    "features = df.padded.apply(lambda x: eval(x)).values\n",
    "labels = df.label.values"
   ]
  },
  {
   "cell_type": "code",
   "execution_count": 70,
   "id": "09e02596-bd02-4e6f-8f15-ea925d382772",
   "metadata": {},
   "outputs": [],
   "source": [
    "x_train, x_test, y_train, y_test = train_test_split(features, labels, test_size=0.2, random_state=1)"
   ]
  },
  {
   "cell_type": "code",
   "execution_count": 71,
   "id": "5dd91d94-98b9-4281-888d-0ba0bd6e1450",
   "metadata": {},
   "outputs": [
    {
     "name": "stdout",
     "output_type": "stream",
     "text": [
      "(803,)\n"
     ]
    }
   ],
   "source": []
  },
  {
   "cell_type": "code",
   "execution_count": 99,
   "id": "2d1521d1-ed95-469d-b02e-11a8a305f1f7",
   "metadata": {},
   "outputs": [
    {
     "data": {
      "text/html": [
       "<style>#sk-container-id-2 {color: black;background-color: white;}#sk-container-id-2 pre{padding: 0;}#sk-container-id-2 div.sk-toggleable {background-color: white;}#sk-container-id-2 label.sk-toggleable__label {cursor: pointer;display: block;width: 100%;margin-bottom: 0;padding: 0.3em;box-sizing: border-box;text-align: center;}#sk-container-id-2 label.sk-toggleable__label-arrow:before {content: \"▸\";float: left;margin-right: 0.25em;color: #696969;}#sk-container-id-2 label.sk-toggleable__label-arrow:hover:before {color: black;}#sk-container-id-2 div.sk-estimator:hover label.sk-toggleable__label-arrow:before {color: black;}#sk-container-id-2 div.sk-toggleable__content {max-height: 0;max-width: 0;overflow: hidden;text-align: left;background-color: #f0f8ff;}#sk-container-id-2 div.sk-toggleable__content pre {margin: 0.2em;color: black;border-radius: 0.25em;background-color: #f0f8ff;}#sk-container-id-2 input.sk-toggleable__control:checked~div.sk-toggleable__content {max-height: 200px;max-width: 100%;overflow: auto;}#sk-container-id-2 input.sk-toggleable__control:checked~label.sk-toggleable__label-arrow:before {content: \"▾\";}#sk-container-id-2 div.sk-estimator input.sk-toggleable__control:checked~label.sk-toggleable__label {background-color: #d4ebff;}#sk-container-id-2 div.sk-label input.sk-toggleable__control:checked~label.sk-toggleable__label {background-color: #d4ebff;}#sk-container-id-2 input.sk-hidden--visually {border: 0;clip: rect(1px 1px 1px 1px);clip: rect(1px, 1px, 1px, 1px);height: 1px;margin: -1px;overflow: hidden;padding: 0;position: absolute;width: 1px;}#sk-container-id-2 div.sk-estimator {font-family: monospace;background-color: #f0f8ff;border: 1px dotted black;border-radius: 0.25em;box-sizing: border-box;margin-bottom: 0.5em;}#sk-container-id-2 div.sk-estimator:hover {background-color: #d4ebff;}#sk-container-id-2 div.sk-parallel-item::after {content: \"\";width: 100%;border-bottom: 1px solid gray;flex-grow: 1;}#sk-container-id-2 div.sk-label:hover label.sk-toggleable__label {background-color: #d4ebff;}#sk-container-id-2 div.sk-serial::before {content: \"\";position: absolute;border-left: 1px solid gray;box-sizing: border-box;top: 0;bottom: 0;left: 50%;z-index: 0;}#sk-container-id-2 div.sk-serial {display: flex;flex-direction: column;align-items: center;background-color: white;padding-right: 0.2em;padding-left: 0.2em;position: relative;}#sk-container-id-2 div.sk-item {position: relative;z-index: 1;}#sk-container-id-2 div.sk-parallel {display: flex;align-items: stretch;justify-content: center;background-color: white;position: relative;}#sk-container-id-2 div.sk-item::before, #sk-container-id-2 div.sk-parallel-item::before {content: \"\";position: absolute;border-left: 1px solid gray;box-sizing: border-box;top: 0;bottom: 0;left: 50%;z-index: -1;}#sk-container-id-2 div.sk-parallel-item {display: flex;flex-direction: column;z-index: 1;position: relative;background-color: white;}#sk-container-id-2 div.sk-parallel-item:first-child::after {align-self: flex-end;width: 50%;}#sk-container-id-2 div.sk-parallel-item:last-child::after {align-self: flex-start;width: 50%;}#sk-container-id-2 div.sk-parallel-item:only-child::after {width: 0;}#sk-container-id-2 div.sk-dashed-wrapped {border: 1px dashed gray;margin: 0 0.4em 0.5em 0.4em;box-sizing: border-box;padding-bottom: 0.4em;background-color: white;}#sk-container-id-2 div.sk-label label {font-family: monospace;font-weight: bold;display: inline-block;line-height: 1.2em;}#sk-container-id-2 div.sk-label-container {text-align: center;}#sk-container-id-2 div.sk-container {/* jupyter's `normalize.less` sets `[hidden] { display: none; }` but bootstrap.min.css set `[hidden] { display: none !important; }` so we also need the `!important` here to be able to override the default hidden behavior on the sphinx rendered scikit-learn.org. See: https://github.com/scikit-learn/scikit-learn/issues/21755 */display: inline-block !important;position: relative;}#sk-container-id-2 div.sk-text-repr-fallback {display: none;}</style><div id=\"sk-container-id-2\" class=\"sk-top-container\"><div class=\"sk-text-repr-fallback\"><pre>RandomForestClassifier()</pre><b>In a Jupyter environment, please rerun this cell to show the HTML representation or trust the notebook. <br />On GitHub, the HTML representation is unable to render, please try loading this page with nbviewer.org.</b></div><div class=\"sk-container\" hidden><div class=\"sk-item\"><div class=\"sk-estimator sk-toggleable\"><input class=\"sk-toggleable__control sk-hidden--visually\" id=\"sk-estimator-id-2\" type=\"checkbox\" checked><label for=\"sk-estimator-id-2\" class=\"sk-toggleable__label sk-toggleable__label-arrow\">RandomForestClassifier</label><div class=\"sk-toggleable__content\"><pre>RandomForestClassifier()</pre></div></div></div></div></div>"
      ],
      "text/plain": [
       "RandomForestClassifier()"
      ]
     },
     "execution_count": 99,
     "metadata": {},
     "output_type": "execute_result"
    }
   ],
   "source": [
    "\n",
    "forest = RandomForestClassifier()\n",
    "forest.fit(list(x_train), y_train)"
   ]
  },
  {
   "cell_type": "code",
   "execution_count": 102,
   "id": "2d8bfde1-075d-43fd-903b-798dd9718dbc",
   "metadata": {},
   "outputs": [
    {
     "name": "stdout",
     "output_type": "stream",
     "text": [
      "forest Accuracy: 0.7313432835820896\n"
     ]
    }
   ],
   "source": [
    "y_forest = forest.predict(list(x_test))\n",
    "predictions = forest.predict_proba(list(x_test))\n",
    "print(\"forest Accuracy:\",metrics.accuracy_score(y_test, y_forest))"
   ]
  },
  {
   "cell_type": "code",
   "execution_count": 2,
   "id": "625d8560-db5a-44bf-b3fc-d7fe926c75a3",
   "metadata": {},
   "outputs": [],
   "source": [
    "class Emails(Dataset):\n",
    "        def __init__(self, csv_dir):\n",
    "            data = pd.read_csv(csv_dir)\n",
    "            self.features = data.padded.apply(lambda x: eval(x)).values\n",
    "            self.labels = data.label.values\n",
    "        def __len__(self):\n",
    "            return len(self.labels)\n",
    "        def __getitem__(self, idx):\n",
    "            return self.features[idx], self.labels[idx]"
   ]
  },
  {
   "cell_type": "code",
   "execution_count": 3,
   "id": "1e48e891-d826-456d-8902-c9ef118b8b7f",
   "metadata": {},
   "outputs": [],
   "source": [
    "train_ds = Emails(\"training_data.csv\")\n",
    "valid_ds = Emails(\"validation_data.csv\")"
   ]
  },
  {
   "cell_type": "code",
   "execution_count": 103,
   "id": "066f4eda-bbb9-44d6-8712-ccefb9511537",
   "metadata": {},
   "outputs": [
    {
     "data": {
      "text/plain": [
       "['forest_model.joblib']"
      ]
     },
     "execution_count": 103,
     "metadata": {},
     "output_type": "execute_result"
    }
   ],
   "source": [
    "from joblib import dump, load\n",
    "dump(forest, 'forest_model.joblib') \n",
    "\n"
   ]
  },
  {
   "cell_type": "code",
   "execution_count": 104,
   "id": "005960ec-40f9-419c-a756-e72b1f906f29",
   "metadata": {},
   "outputs": [],
   "source": [
    "with open(\"mapping.json\", 'r') as f:\n",
    "    mapping = json.load(f)\n"
   ]
  },
  {
   "cell_type": "code",
   "execution_count": 119,
   "id": "90bb3e36-976c-4b6f-8f58-3bb617a3248f",
   "metadata": {},
   "outputs": [],
   "source": [
    "score_labels = {}\n",
    "\n",
    "score_labels[0] = 'undefined'\n",
    "score_labels[1] = 'young'\n",
    "score_labels[2] = 'medium'\n",
    "score_labels[3] = 'old'\n",
    "\n",
    "\n",
    "with open(\"scores.json\", 'w+') as f:\n",
    "    json.dump(score_labels,f)\n"
   ]
  },
  {
   "cell_type": "markdown",
   "id": "8c730699-0652-40c2-91d3-17b2b578972c",
   "metadata": {},
   "source": [
    "### **evaluation pipeline build**"
   ]
  },
  {
   "cell_type": "code",
   "execution_count": 109,
   "id": "55f48bcc-26dc-4cae-a62f-f2b378c9e21c",
   "metadata": {},
   "outputs": [],
   "source": [
    "# input to the networks must be uniform\n",
    "def pad_tokens(token_list: list):\n",
    "    len_tokens = len(token_list)\n",
    "    if len_tokens > 32 :\n",
    "        return token_list[:32]\n",
    "    else:\n",
    "        pad_val = [0] * 32\n",
    "        extended = token_list + pad_val # length of (original_length + max_len)\n",
    "        return extended[:-len_tokens]"
   ]
  },
  {
   "cell_type": "code",
   "execution_count": 110,
   "id": "c1943d53-aa1f-40ce-9c5a-83ac105a8714",
   "metadata": {},
   "outputs": [],
   "source": [
    "def tokenize_and_pad(email: str):\n",
    "    email = email.split('@')[0].lower()\n",
    "    tokens = [mapping[ch] for ch in email]\n",
    "    tokens = pad_tokens(tokens)\n",
    "    return tokens"
   ]
  },
  {
   "cell_type": "code",
   "execution_count": 145,
   "id": "39ced36a-d07e-423d-9cb1-4d6db408db5f",
   "metadata": {},
   "outputs": [],
   "source": []
  },
  {
   "cell_type": "code",
   "execution_count": 146,
   "id": "1f8a98c3-94a2-4282-b6ad-5d50bb8fca64",
   "metadata": {},
   "outputs": [
    {
     "name": "stdout",
     "output_type": "stream",
     "text": [
      "3 0.39\n"
     ]
    }
   ],
   "source": [
    "predictions = forest.predict_proba([processed])\n",
    "label = np.argmax(predictions)\n",
    "score = np.max(predictions)\n",
    "print(label, score)"
   ]
  },
  {
   "cell_type": "markdown",
   "id": "e0f18371-d398-4ae3-b177-7cf4188d2f53",
   "metadata": {
    "jp-MarkdownHeadingCollapsed": true,
    "tags": []
   },
   "source": [
    "### **Pytorch model testing**"
   ]
  },
  {
   "cell_type": "code",
   "execution_count": 49,
   "id": "db48226b-d506-47ec-9958-4e91453dc34e",
   "metadata": {},
   "outputs": [],
   "source": [
    "class Model(nn.Module):\n",
    "    def __init__(self):\n",
    "        super().__init__()\n",
    "        # self.fc1 = nn.Linear(32, 64)\n",
    "        # self.fc2 = nn.Linear(64, 16)\n",
    "        # self.fc1 = nn.Linear(32, 8)\n",
    "        # self.fc2 = nn.Linear(8, 4)\n",
    "        self.conv1 = nn.Conv1d(1, 16, kernel_size = 3, stride = 2, padding = 1)\n",
    "        self.conv2 = nn.Conv1d(16, 1, kernel_size= 5, stride = 4, padding = 1 )\n",
    "        self.relu = nn.ReLU(inplace=True)\n",
    "    def forward(self, x):\n",
    "        x = torch.unsqueeze(x, dim=1)\n",
    "        # print(x.shape)\n",
    "        x = self.relu(self.conv1(x))\n",
    "        # x = self.relu(self.fc2(x))\n",
    "        # x = self.relu(self.fc3(x))\n",
    "        # x = self.fc4(x)\n",
    "        x = self.conv2(x)\n",
    "        return x.squeeze(dim=1)"
   ]
  },
  {
   "cell_type": "code",
   "execution_count": 50,
   "id": "1efde0f4-4577-4583-a175-8f36ade3fc80",
   "metadata": {},
   "outputs": [],
   "source": [
    "lr = 1e-3\n",
    "epochs = 50\n",
    "batch_size = 16\n",
    "model = Model().to(device)\n",
    "loss_fn = nn.CrossEntropyLoss()\n",
    "optimizer = torch.optim.Adam(model.parameters(), lr= lr)\n",
    "\n",
    "train_dataloader = DataLoader(train_ds, batch_size=batch_size, shuffle=True,drop_last=True)\n",
    "valid_dataloader = DataLoader(valid_ds, batch_size=1, shuffle=True)"
   ]
  },
  {
   "cell_type": "code",
   "execution_count": null,
   "id": "eca2ab9f-f455-496a-a404-345fbfd7c960",
   "metadata": {},
   "outputs": [],
   "source": []
  },
  {
   "cell_type": "code",
   "execution_count": 51,
   "id": "749897b8-f35a-49c9-a64b-e0405e84302f",
   "metadata": {},
   "outputs": [
    {
     "name": "stdout",
     "output_type": "stream",
     "text": [
      " losses at 1 epoch(s): 1.761562008857727 -- 1.4403756871819495 -- 0.35\n",
      " losses at 2 epoch(s): 1.3852433252334595 -- 1.3456395751237868 -- 0.4\n",
      " losses at 3 epoch(s): 1.3292412090301513 -- 1.3649610176682472 -- 0.36\n",
      " losses at 4 epoch(s): 1.3114346289634704 -- 1.3733655819296837 -- 0.36\n",
      " losses at 5 epoch(s): 1.3005125713348389 -- 1.3297643366456031 -- 0.39\n",
      " losses at 6 epoch(s): 1.2894523000717164 -- 1.4213209956884385 -- 0.38\n",
      " losses at 7 epoch(s): 1.298942506313324 -- 1.3274223935604095 -- 0.42\n",
      " losses at 8 epoch(s): 1.2804566025733948 -- 1.317525379061699 -- 0.41\n",
      " losses at 9 epoch(s): 1.2940052032470704 -- 1.3401930725574493 -- 0.39\n",
      " losses at 10 epoch(s): 1.2777458453178405 -- 1.3397457346320152 -- 0.4\n",
      " losses at 11 epoch(s): 1.2805321383476258 -- 1.3195379880070686 -- 0.41\n",
      " losses at 12 epoch(s): 1.279609878063202 -- 1.3819944925606251 -- 0.38\n",
      " losses at 13 epoch(s): 1.2798580873012542 -- 1.332159004509449 -- 0.39\n",
      " losses at 14 epoch(s): 1.2728362560272217 -- 1.309211387038231 -- 0.41\n",
      " losses at 15 epoch(s): 1.2697426247596741 -- 1.3360844242572785 -- 0.39\n",
      " losses at 16 epoch(s): 1.2715621924400329 -- 1.3096813178062439 -- 0.4\n",
      " losses at 17 epoch(s): 1.266993887424469 -- 1.31255206823349 -- 0.43\n",
      " losses at 18 epoch(s): 1.2729890990257262 -- 1.3214343956112862 -- 0.39\n",
      " losses at 19 epoch(s): 1.2677760696411133 -- 1.330535553097725 -- 0.39\n",
      " losses at 20 epoch(s): 1.2691476726531983 -- 1.3058721750974656 -- 0.4\n",
      " losses at 21 epoch(s): 1.276881868839264 -- 1.3701224315166474 -- 0.39\n",
      " losses at 22 epoch(s): 1.2693878102302552 -- 1.305609394311905 -- 0.41\n",
      " losses at 23 epoch(s): 1.2677784156799317 -- 1.3189863914251327 -- 0.39\n",
      " losses at 24 epoch(s): 1.2681714594364166 -- 1.3503221902251243 -- 0.39\n",
      " losses at 25 epoch(s): 1.2711643958091736 -- 1.310696313083172 -- 0.41\n",
      " losses at 26 epoch(s): 1.2626340126991271 -- 1.295325335264206 -- 0.41\n",
      " losses at 27 epoch(s): 1.2601216650009155 -- 1.3021176967024803 -- 0.41\n",
      " losses at 28 epoch(s): 1.2636460256576538 -- 1.2974846121668815 -- 0.41\n",
      " losses at 29 epoch(s): 1.2621215081214905 -- 1.311572417318821 -- 0.39\n",
      " losses at 30 epoch(s): 1.2612149500846863 -- 1.3089426794648171 -- 0.4\n",
      " losses at 31 epoch(s): 1.2570743227005006 -- 1.3582951536774635 -- 0.39\n",
      " losses at 32 epoch(s): 1.266133382320404 -- 1.3086859926581382 -- 0.39\n",
      " losses at 33 epoch(s): 1.2571651339530945 -- 1.3008027079701423 -- 0.41\n",
      " losses at 34 epoch(s): 1.263576591014862 -- 1.3204286378622054 -- 0.39\n",
      " losses at 35 epoch(s): 1.259265650510788 -- 1.304839940071106 -- 0.41\n",
      " losses at 36 epoch(s): 1.257520122528076 -- 1.3619933679699898 -- 0.38\n",
      " losses at 37 epoch(s): 1.264282832145691 -- 1.3073845672607423 -- 0.39\n",
      " losses at 38 epoch(s): 1.267955985069275 -- 1.3055292606353759 -- 0.4\n",
      " losses at 39 epoch(s): 1.2570728933811188 -- 1.303961604833603 -- 0.41\n",
      " losses at 40 epoch(s): 1.2554382967948914 -- 1.305623289346695 -- 0.42\n",
      " losses at 41 epoch(s): 1.260338270664215 -- 1.2984414368867874 -- 0.41\n",
      " losses at 42 epoch(s): 1.2558224391937256 -- 1.3016010722517968 -- 0.42\n",
      " losses at 43 epoch(s): 1.2547999048233032 -- 1.2952381652593612 -- 0.43\n",
      " losses at 44 epoch(s): 1.2611276185512543 -- 1.333627414405346 -- 0.38\n",
      " losses at 45 epoch(s): 1.2680038070678712 -- 1.2988447612524032 -- 0.41\n",
      " losses at 46 epoch(s): 1.2636225628852844 -- 1.3218349000811578 -- 0.37\n",
      " losses at 47 epoch(s): 1.2513404500484466 -- 1.2920371246337892 -- 0.43\n",
      " losses at 48 epoch(s): 1.2546088194847107 -- 1.3245470905303955 -- 0.38\n",
      " losses at 49 epoch(s): 1.2576008450984955 -- 1.303183456659317 -- 0.43\n",
      " losses at 50 epoch(s): 1.252818992137909 -- 1.293637518286705 -- 0.43\n"
     ]
    }
   ],
   "source": [
    "for epoch in range(epochs):\n",
    "    training_loss = 0\n",
    "    validation_loss = 0\n",
    "    validation_accuracy = 0\n",
    "    for batch in train_dataloader:\n",
    "        model.train()\n",
    "        optimizer.zero_grad()\n",
    "        features, labels = batch\n",
    "        features = torch.stack(features).float()\n",
    "        features = torch.transpose(features, 0, 1).to(device)\n",
    "        labels = labels.to(device).long()\n",
    "        outputs = model(features)\n",
    "        loss = loss_fn(outputs, labels)\n",
    "        loss.backward()\n",
    "        optimizer.step()\n",
    "        training_loss += loss.item()\n",
    "        \n",
    "    model.eval()\n",
    "    with torch.no_grad():\n",
    "        for batch in valid_dataloader:\n",
    "            features, labels = batch\n",
    "            features = torch.stack(features).float()\n",
    "            features = torch.transpose(features, 0, 1).to(device)\n",
    "            labels = labels.to(device).long()\n",
    "            outputs = model(features)\n",
    "            loss = loss_fn(outputs, labels)\n",
    "            validation_loss += loss.item()\n",
    "            if torch.argmax(outputs).item() == labels.item():\n",
    "                validation_accuracy += 1\n",
    "    print(f' losses at {epoch+1} epoch(s): {training_loss / len(train_dataloader)} -- {validation_loss / len(valid_dataloader)} -- {validation_accuracy / len(valid_dataloader)}')\n",
    "    # print(f'training loss at {epoch+1} epoch(s): {epoch_loss / len(train_dataloader)}')"
   ]
  },
  {
   "cell_type": "code",
   "execution_count": null,
   "id": "f20e5129-034f-48c2-9e8d-b206bf808308",
   "metadata": {},
   "outputs": [],
   "source": []
  },
  {
   "cell_type": "code",
   "execution_count": null,
   "id": "9f5cba88-4b64-4879-b9c7-9397a48994fd",
   "metadata": {},
   "outputs": [],
   "source": []
  }
 ],
 "metadata": {
  "kernelspec": {
   "display_name": "Python 3 (ipykernel)",
   "language": "python",
   "name": "python3"
  },
  "language_info": {
   "codemirror_mode": {
    "name": "ipython",
    "version": 3
   },
   "file_extension": ".py",
   "mimetype": "text/x-python",
   "name": "python",
   "nbconvert_exporter": "python",
   "pygments_lexer": "ipython3",
   "version": "3.8.10"
  }
 },
 "nbformat": 4,
 "nbformat_minor": 5
}
